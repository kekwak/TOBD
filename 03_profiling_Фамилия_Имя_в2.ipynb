{
 "cells": [
  {
   "cell_type": "markdown",
   "metadata": {
    "id": "XeRO68t2gWPi"
   },
   "source": [
    "## Оптимизация выполнения кода, векторизация, Numba"
   ]
  },
  {
   "cell_type": "markdown",
   "metadata": {
    "id": "YMAlkfImgWPk"
   },
   "source": [
    "Материалы:\n",
    "* Макрушин С.В. Лекция 3: Оптимизация выполнения кода, векторизация, Numba\n",
    "* IPython Cookbook, Second Edition (2018), глава 4\n",
    "* https://numba.pydata.org/numba-doc/latest/user/5minguide.html"
   ]
  },
  {
   "cell_type": "code",
   "execution_count": 463,
   "metadata": {},
   "outputs": [],
   "source": [
    "import numpy as np\n",
    "from numba import jit,njit,vectorize\n",
    "import pandas as pd\n",
    "import datetime\n",
    "import line_profiler"
   ]
  },
  {
   "cell_type": "markdown",
   "metadata": {
    "id": "IIKzPnUPgWPk"
   },
   "source": [
    "## Задачи для совместного разбора"
   ]
  },
  {
   "cell_type": "markdown",
   "metadata": {
    "id": "HPYKiAnxgWPl"
   },
   "source": [
    "1. Сгенерируйте массив `A` из `N=1млн` случайных целых чисел на отрезке от 0 до 1000. Пусть `B[i] = A[i] + 100`. Посчитайте среднее значение массива `B`."
   ]
  },
  {
   "cell_type": "code",
   "execution_count": 602,
   "metadata": {},
   "outputs": [],
   "source": [
    "@njit\n",
    "def generate():\n",
    "    return np.random.randint(0, 1001, 1_000_000)"
   ]
  },
  {
   "cell_type": "code",
   "execution_count": 603,
   "metadata": {},
   "outputs": [
    {
     "data": {
      "text/plain": [
       "599.859088"
      ]
     },
     "execution_count": 603,
     "metadata": {},
     "output_type": "execute_result"
    }
   ],
   "source": [
    "A = generate()\n",
    "B = A+100\n",
    "np.mean(B)"
   ]
  },
  {
   "cell_type": "markdown",
   "metadata": {
    "id": "02BWkBo1gWPl"
   },
   "source": [
    "2. Создайте таблицу 2млн строк и с 4 столбцами, заполненными случайными числами. Добавьте столбец `key`, которые содержит элементы из множества английских букв. Выберите из таблицы подмножество строк, для которых в столбце `key` указаны первые 5 английских букв."
   ]
  },
  {
   "cell_type": "code",
   "execution_count": 604,
   "metadata": {},
   "outputs": [],
   "source": [
    "def random_char():\n",
    "    indexes = np.array([*range(ord('A'), ord('Z')+1), *range(ord('a'), ord('z')+1)])\n",
    "    return list(map(chr, np.random.choice(indexes, 2000001)))"
   ]
  },
  {
   "cell_type": "code",
   "execution_count": 605,
   "metadata": {
    "scrolled": false
   },
   "outputs": [
    {
     "data": {
      "text/html": [
       "<div>\n",
       "<style scoped>\n",
       "    .dataframe tbody tr th:only-of-type {\n",
       "        vertical-align: middle;\n",
       "    }\n",
       "\n",
       "    .dataframe tbody tr th {\n",
       "        vertical-align: top;\n",
       "    }\n",
       "\n",
       "    .dataframe thead th {\n",
       "        text-align: right;\n",
       "    }\n",
       "</style>\n",
       "<table border=\"1\" class=\"dataframe\">\n",
       "  <thead>\n",
       "    <tr style=\"text-align: right;\">\n",
       "      <th></th>\n",
       "      <th>0</th>\n",
       "      <th>1</th>\n",
       "      <th>2</th>\n",
       "      <th>3</th>\n",
       "      <th>key</th>\n",
       "    </tr>\n",
       "  </thead>\n",
       "  <tbody>\n",
       "    <tr>\n",
       "      <th>0</th>\n",
       "      <td>318</td>\n",
       "      <td>164</td>\n",
       "      <td>551</td>\n",
       "      <td>79</td>\n",
       "      <td>k</td>\n",
       "    </tr>\n",
       "    <tr>\n",
       "      <th>1</th>\n",
       "      <td>619</td>\n",
       "      <td>637</td>\n",
       "      <td>415</td>\n",
       "      <td>962</td>\n",
       "      <td>N</td>\n",
       "    </tr>\n",
       "    <tr>\n",
       "      <th>2</th>\n",
       "      <td>854</td>\n",
       "      <td>529</td>\n",
       "      <td>566</td>\n",
       "      <td>8</td>\n",
       "      <td>Q</td>\n",
       "    </tr>\n",
       "    <tr>\n",
       "      <th>3</th>\n",
       "      <td>836</td>\n",
       "      <td>22</td>\n",
       "      <td>399</td>\n",
       "      <td>47</td>\n",
       "      <td>I</td>\n",
       "    </tr>\n",
       "    <tr>\n",
       "      <th>4</th>\n",
       "      <td>398</td>\n",
       "      <td>411</td>\n",
       "      <td>87</td>\n",
       "      <td>692</td>\n",
       "      <td>b</td>\n",
       "    </tr>\n",
       "    <tr>\n",
       "      <th>...</th>\n",
       "      <td>...</td>\n",
       "      <td>...</td>\n",
       "      <td>...</td>\n",
       "      <td>...</td>\n",
       "      <td>...</td>\n",
       "    </tr>\n",
       "    <tr>\n",
       "      <th>1999996</th>\n",
       "      <td>718</td>\n",
       "      <td>604</td>\n",
       "      <td>231</td>\n",
       "      <td>206</td>\n",
       "      <td>j</td>\n",
       "    </tr>\n",
       "    <tr>\n",
       "      <th>1999997</th>\n",
       "      <td>932</td>\n",
       "      <td>805</td>\n",
       "      <td>315</td>\n",
       "      <td>386</td>\n",
       "      <td>i</td>\n",
       "    </tr>\n",
       "    <tr>\n",
       "      <th>1999998</th>\n",
       "      <td>251</td>\n",
       "      <td>633</td>\n",
       "      <td>983</td>\n",
       "      <td>935</td>\n",
       "      <td>Z</td>\n",
       "    </tr>\n",
       "    <tr>\n",
       "      <th>1999999</th>\n",
       "      <td>440</td>\n",
       "      <td>694</td>\n",
       "      <td>33</td>\n",
       "      <td>21</td>\n",
       "      <td>e</td>\n",
       "    </tr>\n",
       "    <tr>\n",
       "      <th>2000000</th>\n",
       "      <td>977</td>\n",
       "      <td>448</td>\n",
       "      <td>533</td>\n",
       "      <td>883</td>\n",
       "      <td>O</td>\n",
       "    </tr>\n",
       "  </tbody>\n",
       "</table>\n",
       "<p>2000001 rows × 5 columns</p>\n",
       "</div>"
      ],
      "text/plain": [
       "           0    1    2    3 key\n",
       "0        318  164  551   79   k\n",
       "1        619  637  415  962   N\n",
       "2        854  529  566    8   Q\n",
       "3        836   22  399   47   I\n",
       "4        398  411   87  692   b\n",
       "...      ...  ...  ...  ...  ..\n",
       "1999996  718  604  231  206   j\n",
       "1999997  932  805  315  386   i\n",
       "1999998  251  633  983  935   Z\n",
       "1999999  440  694   33   21   e\n",
       "2000000  977  448  533  883   O\n",
       "\n",
       "[2000001 rows x 5 columns]"
      ]
     },
     "execution_count": 605,
     "metadata": {},
     "output_type": "execute_result"
    }
   ],
   "source": [
    "df = pd.DataFrame(data=np.random.randint(0, 1001, (2_000_001, 4)))\n",
    "df['key'] = pd.Series(random_char(), index=df.index)\n",
    "df"
   ]
  },
  {
   "cell_type": "code",
   "execution_count": 606,
   "metadata": {},
   "outputs": [
    {
     "data": {
      "text/html": [
       "<div>\n",
       "<style scoped>\n",
       "    .dataframe tbody tr th:only-of-type {\n",
       "        vertical-align: middle;\n",
       "    }\n",
       "\n",
       "    .dataframe tbody tr th {\n",
       "        vertical-align: top;\n",
       "    }\n",
       "\n",
       "    .dataframe thead th {\n",
       "        text-align: right;\n",
       "    }\n",
       "</style>\n",
       "<table border=\"1\" class=\"dataframe\">\n",
       "  <thead>\n",
       "    <tr style=\"text-align: right;\">\n",
       "      <th></th>\n",
       "      <th>0</th>\n",
       "      <th>1</th>\n",
       "      <th>2</th>\n",
       "      <th>3</th>\n",
       "      <th>key</th>\n",
       "    </tr>\n",
       "  </thead>\n",
       "  <tbody>\n",
       "    <tr>\n",
       "      <th>9</th>\n",
       "      <td>458</td>\n",
       "      <td>647</td>\n",
       "      <td>77</td>\n",
       "      <td>876</td>\n",
       "      <td>e</td>\n",
       "    </tr>\n",
       "    <tr>\n",
       "      <th>18</th>\n",
       "      <td>268</td>\n",
       "      <td>960</td>\n",
       "      <td>625</td>\n",
       "      <td>828</td>\n",
       "      <td>A</td>\n",
       "    </tr>\n",
       "    <tr>\n",
       "      <th>19</th>\n",
       "      <td>63</td>\n",
       "      <td>57</td>\n",
       "      <td>955</td>\n",
       "      <td>674</td>\n",
       "      <td>E</td>\n",
       "    </tr>\n",
       "    <tr>\n",
       "      <th>38</th>\n",
       "      <td>356</td>\n",
       "      <td>486</td>\n",
       "      <td>822</td>\n",
       "      <td>566</td>\n",
       "      <td>c</td>\n",
       "    </tr>\n",
       "    <tr>\n",
       "      <th>49</th>\n",
       "      <td>321</td>\n",
       "      <td>245</td>\n",
       "      <td>498</td>\n",
       "      <td>802</td>\n",
       "      <td>A</td>\n",
       "    </tr>\n",
       "    <tr>\n",
       "      <th>...</th>\n",
       "      <td>...</td>\n",
       "      <td>...</td>\n",
       "      <td>...</td>\n",
       "      <td>...</td>\n",
       "      <td>...</td>\n",
       "    </tr>\n",
       "    <tr>\n",
       "      <th>1999945</th>\n",
       "      <td>193</td>\n",
       "      <td>845</td>\n",
       "      <td>450</td>\n",
       "      <td>854</td>\n",
       "      <td>E</td>\n",
       "    </tr>\n",
       "    <tr>\n",
       "      <th>1999953</th>\n",
       "      <td>523</td>\n",
       "      <td>74</td>\n",
       "      <td>577</td>\n",
       "      <td>658</td>\n",
       "      <td>C</td>\n",
       "    </tr>\n",
       "    <tr>\n",
       "      <th>1999978</th>\n",
       "      <td>468</td>\n",
       "      <td>366</td>\n",
       "      <td>552</td>\n",
       "      <td>600</td>\n",
       "      <td>a</td>\n",
       "    </tr>\n",
       "    <tr>\n",
       "      <th>1999980</th>\n",
       "      <td>974</td>\n",
       "      <td>839</td>\n",
       "      <td>31</td>\n",
       "      <td>391</td>\n",
       "      <td>c</td>\n",
       "    </tr>\n",
       "    <tr>\n",
       "      <th>1999999</th>\n",
       "      <td>440</td>\n",
       "      <td>694</td>\n",
       "      <td>33</td>\n",
       "      <td>21</td>\n",
       "      <td>e</td>\n",
       "    </tr>\n",
       "  </tbody>\n",
       "</table>\n",
       "<p>230082 rows × 5 columns</p>\n",
       "</div>"
      ],
      "text/plain": [
       "           0    1    2    3 key\n",
       "9        458  647   77  876   e\n",
       "18       268  960  625  828   A\n",
       "19        63   57  955  674   E\n",
       "38       356  486  822  566   c\n",
       "49       321  245  498  802   A\n",
       "...      ...  ...  ...  ...  ..\n",
       "1999945  193  845  450  854   E\n",
       "1999953  523   74  577  658   C\n",
       "1999978  468  366  552  600   a\n",
       "1999980  974  839   31  391   c\n",
       "1999999  440  694   33   21   e\n",
       "\n",
       "[230082 rows x 5 columns]"
      ]
     },
     "execution_count": 606,
     "metadata": {},
     "output_type": "execute_result"
    }
   ],
   "source": [
    "df[(df.key == 'a')|(df.key[i] == 'b')|(df.key == 'c')|(df.key[i] == 'd')|(df.key == 'e')| \\\n",
    "  (df.key == 'A')|(df.key[i] == 'B')|(df.key == 'C')|(df.key[i] == 'D')|(df.key == 'E')]"
   ]
  },
  {
   "cell_type": "markdown",
   "metadata": {
    "id": "SIvhRvR7gWPl"
   },
   "source": [
    "## Лабораторная работа 3"
   ]
  },
  {
   "cell_type": "markdown",
   "metadata": {
    "id": "3AvXPFHvgWPm"
   },
   "source": [
    "1. В файлах `recipes_sample.csv` и `reviews_sample.csv` (__ЛР 2__) находится информация об рецептах блюд и отзывах на эти рецепты соответственно. Загрузите данные из файлов в виде `pd.DataFrame` с названиями `recipes` и `reviews`. Обратите внимание на корректное считывание столбца(ов) с индексами. Приведите столбцы к нужным типам.\n",
    "\n",
    "Реализуйте несколько вариантов функции подсчета среднего значения столбца `rating` из таблицы `reviews` для отзывов, оставленных в 2010 году.\n",
    "\n",
    "A. С использованием метода `DataFrame.iterrows` исходной таблицы;\n",
    "\n",
    "Б. С использованием метода `DataFrame.iterrows` таблицы, в которой сохранены только отзывы за 2010 год;\n",
    "\n",
    "В. С использованием метода `Series.mean`.\n",
    "\n",
    "Проверьте, что результаты работы всех написанных функций корректны и совпадают. Измерьте выполнения всех написанных функций.\n"
   ]
  },
  {
   "cell_type": "code",
   "execution_count": 367,
   "metadata": {},
   "outputs": [],
   "source": [
    "recipes = pd.read_csv('labs/recipes_sample.csv')\n",
    "reviews = pd.read_csv('labs/reviews_sample.csv', index_col=0)"
   ]
  },
  {
   "cell_type": "code",
   "execution_count": 546,
   "metadata": {},
   "outputs": [],
   "source": [
    "def mean1():\n",
    "    a = 0\n",
    "    for index, row in reviews.iterrows():\n",
    "        a += row.rating\n",
    "    return a/len(reviews.rating)\n",
    "\n",
    "def mean2():\n",
    "    reviews.date = pd.to_datetime(reviews.date)\n",
    "    reviews2 = reviews[(reviews.date >= np.datetime64('2010-01-01')) & (reviews.date < np.datetime64('2011-01-01'))]\n",
    "    \n",
    "    a = 0\n",
    "    for index, row in reviews2.iterrows():\n",
    "        a += row.rating\n",
    "    return a/len(reviews2.rating)\n",
    "\n",
    "def mean3():\n",
    "    return reviews.rating.mean()"
   ]
  },
  {
   "cell_type": "code",
   "execution_count": 493,
   "metadata": {},
   "outputs": [
    {
     "name": "stdout",
     "output_type": "stream",
     "text": [
      "Via iterrows: 4.41080\n",
      "Via iterrows (2010): 4.45444\n",
      "Via mean: 4.41080\n"
     ]
    }
   ],
   "source": [
    "print(f'Via iterrows: {mean1():.5f}\\nVia iterrows (2010): {mean2():.5f}\\nVia mean: {mean3():.5f}')"
   ]
  },
  {
   "cell_type": "code",
   "execution_count": 494,
   "metadata": {},
   "outputs": [
    {
     "name": "stdout",
     "output_type": "stream",
     "text": [
      "Timer unit: 1e-09 s\n",
      "\n",
      "Total time: 5.30871 s\n",
      "File: /var/folders/02/6cj0f5qn4y30_4fdyfzy3vnh0000gn/T/ipykernel_818/3782130813.py\n",
      "Function: mean1 at line 1\n",
      "\n",
      "Line #      Hits         Time  Per Hit   % Time  Line Contents\n",
      "==============================================================\n",
      "     1                                           def mean1():\n",
      "     2         1       1000.0   1000.0      0.0      a = 0\n",
      "     3    126696 4134938000.0  32636.7     77.9      for index, row in reviews.iterrows():\n",
      "     4    126696 1173754000.0   9264.3     22.1          a += row.rating\n",
      "     5         1      19000.0  19000.0      0.0      return a/len(reviews.rating)\n",
      "\n"
     ]
    }
   ],
   "source": [
    "lp = LineProfiler()\n",
    "lp_wrapper = lp(mean1)()\n",
    "lp.print_stats()"
   ]
  },
  {
   "cell_type": "code",
   "execution_count": 495,
   "metadata": {},
   "outputs": [
    {
     "name": "stdout",
     "output_type": "stream",
     "text": [
      "Timer unit: 1e-09 s\n",
      "\n",
      "Total time: 0.497533 s\n",
      "File: /var/folders/02/6cj0f5qn4y30_4fdyfzy3vnh0000gn/T/ipykernel_818/3782130813.py\n",
      "Function: mean2 at line 7\n",
      "\n",
      "Line #      Hits         Time  Per Hit   % Time  Line Contents\n",
      "==============================================================\n",
      "     7                                           def mean2():\n",
      "     8         1    4623000.0 4623000.0      0.9      reviews.date = pd.to_datetime(reviews.date)\n",
      "     9         1    2031000.0 2031000.0      0.4      reviews2 = reviews[(reviews.date >= np.datetime64('2010-01-01')) & (reviews.date < np.datetime64('2011-01-01'))]\n",
      "    10                                               \n",
      "    11         1          0.0      0.0      0.0      a = 0\n",
      "    12     12094  379670000.0  31393.3     76.3      for index, row in reviews2.iterrows():\n",
      "    13     12094  111165000.0   9191.7     22.3          a += row.rating\n",
      "    14         1      44000.0  44000.0      0.0      return a/len(reviews2.rating)\n",
      "\n"
     ]
    }
   ],
   "source": [
    "lp = LineProfiler()\n",
    "lp(mean2)()\n",
    "lp.print_stats()"
   ]
  },
  {
   "cell_type": "code",
   "execution_count": 496,
   "metadata": {},
   "outputs": [
    {
     "name": "stdout",
     "output_type": "stream",
     "text": [
      "Timer unit: 1e-09 s\n",
      "\n",
      "Total time: 0.000307 s\n",
      "File: /var/folders/02/6cj0f5qn4y30_4fdyfzy3vnh0000gn/T/ipykernel_818/3782130813.py\n",
      "Function: mean3 at line 16\n",
      "\n",
      "Line #      Hits         Time  Per Hit   % Time  Line Contents\n",
      "==============================================================\n",
      "    16                                           def mean3():\n",
      "    17         1     307000.0 307000.0    100.0      return reviews.rating.mean()\n",
      "\n"
     ]
    }
   ],
   "source": [
    "lp = LineProfiler()\n",
    "lp(mean3)()\n",
    "lp.print_stats()"
   ]
  },
  {
   "cell_type": "markdown",
   "metadata": {
    "id": "nuNgIYv0gWPm"
   },
   "source": [
    "2. Какая из созданных функций выполняется медленнее? Что наиболее сильно влияет на скорость выполнения? Для ответа использовать профайлер `line_profiler`. Сохраните результаты работы профайлера в отдельную текстовую ячейку и прокомментируйте результаты его работы.\n",
    "\n",
    "(*). Сможете ли вы ускорить работу функции 1Б, отказавшись от использования метода `iterrows`, но не используя метод `mean`?"
   ]
  },
  {
   "cell_type": "markdown",
   "metadata": {},
   "source": [
    "# Timer unit: 1e-09 s\n",
    "\n",
    "Total time: 5.33197 s\n",
    "File: /var/folders/02/6cj0f5qn4y30_4fdyfzy3vnh0000gn/T/ipykernel_818/3782130813.py\n",
    "Function: mean1 at line 1\n",
    "\n",
    "Line #      Hits         Time  Per Hit   % Time  Line Contents\n",
    "==============================================================\n",
    "     1                                           def mean1():\n",
    "     2         1       3000.0   3000.0      0.0      a = 0\n",
    "     3    126696 4175868000.0  32959.7     78.3      for index, row in reviews.iterrows():\n",
    "     4    126696 1156037000.0   9124.5     21.7          a += row.rating\n",
    "     5         1      65000.0  65000.0      0.0      return a/len(reviews.rating)\n"
   ]
  },
  {
   "cell_type": "markdown",
   "metadata": {},
   "source": [
    "Самая медленная ф-ция DataFrame.iterrows исходной таблицы (A)\n",
    "Наиболее сильно на время выполнения влияет цикл, перебирающий все значения"
   ]
  },
  {
   "cell_type": "code",
   "execution_count": 536,
   "metadata": {},
   "outputs": [],
   "source": [
    "def mean1_mod():\n",
    "    a = reviews.rating.sum()\n",
    "    b = len(reviews.rating)\n",
    "    return a / b"
   ]
  },
  {
   "cell_type": "code",
   "execution_count": 537,
   "metadata": {},
   "outputs": [
    {
     "name": "stdout",
     "output_type": "stream",
     "text": [
      "Timer unit: 1e-09 s\n",
      "\n",
      "Total time: 0.001322 s\n",
      "File: /var/folders/02/6cj0f5qn4y30_4fdyfzy3vnh0000gn/T/ipykernel_818/2451321630.py\n",
      "Function: mean1_mod at line 1\n",
      "\n",
      "Line #      Hits         Time  Per Hit   % Time  Line Contents\n",
      "==============================================================\n",
      "     1                                           def mean1_mod():\n",
      "     2         1    1235000.0 1235000.0     93.4      a = reviews.rating.sum()\n",
      "     3         1      78000.0  78000.0      5.9      b = len(reviews.rating)\n",
      "     4         1       9000.0   9000.0      0.7      return a / b\n",
      "\n"
     ]
    }
   ],
   "source": [
    "lp = LineProfiler()\n",
    "lp(mean1_mod)()\n",
    "lp.print_stats()"
   ]
  },
  {
   "cell_type": "markdown",
   "metadata": {
    "id": "mTCah0LagWPm"
   },
   "source": [
    "3. Вам предлагается воспользоваться функцией, которая собирает статистику о том, сколько отзывов содержат то или иное слово. Измерьте время выполнения этой функции. Сможете ли вы найти узкие места в коде, используя профайлер? Выпишите (словами), что в имеющемся коде реализовано неоптимально. Оптимизируйте функцию и добейтесь значительного (как минимум, на один порядок) прироста в скорости выполнения."
   ]
  },
  {
   "cell_type": "code",
   "execution_count": 667,
   "metadata": {
    "id": "P1SCNOJBgWPn"
   },
   "outputs": [],
   "source": [
    "def get_word_reviews_count(df):\n",
    "    word_reviews = {}\n",
    "    for _, row in df.dropna(subset=['review']).iterrows():\n",
    "        recipe_id, review = row['recipe_id'], row['review']\n",
    "        words = review.split(' ')\n",
    "        for word in words:\n",
    "            if word not in word_reviews:\n",
    "                word_reviews[word] = []\n",
    "            word_reviews[word].append(recipe_id)\n",
    "    \n",
    "    word_reviews_count = {}\n",
    "    for _, row in df.dropna(subset=['review']).iterrows():\n",
    "        review = row['review']\n",
    "        words = review.split(' ')\n",
    "        for word in words:\n",
    "            word_reviews_count[word] = len(word_reviews[word])\n",
    "    return word_reviews_count"
   ]
  },
  {
   "cell_type": "code",
   "execution_count": 717,
   "metadata": {},
   "outputs": [],
   "source": [
    "def get_word_reviews_count2(df):\n",
    "    word_reviews = {}\n",
    "    for i in df.review.dropna():\n",
    "        for j in i.split(' '):\n",
    "            try:\n",
    "                word_reviews[j] += 1\n",
    "            except:\n",
    "                word_reviews[j] = 1\n",
    "                \n",
    "    return word_reviews"
   ]
  },
  {
   "cell_type": "code",
   "execution_count": 718,
   "metadata": {},
   "outputs": [
    {
     "name": "stdout",
     "output_type": "stream",
     "text": [
      "Timer unit: 1e-09 s\n",
      "\n",
      "Total time: 3.70017 s\n",
      "File: /var/folders/02/6cj0f5qn4y30_4fdyfzy3vnh0000gn/T/ipykernel_818/356987905.py\n",
      "Function: get_word_reviews_count2 at line 1\n",
      "\n",
      "Line #      Hits         Time  Per Hit   % Time  Line Contents\n",
      "==============================================================\n",
      "     1                                           def get_word_reviews_count2(df):\n",
      "     2         1       3000.0   3000.0      0.0      word_reviews = {}\n",
      "     3    126679   78214000.0    617.4      2.1      for i in df.review.dropna():\n",
      "     4   6792010 1066508000.0    157.0     28.8          for j in i.split(' '):\n",
      "     5   6792010  661421000.0     97.4     17.9              try:\n",
      "     6   6617066 1791640000.0    270.8     48.4                  word_reviews[j] += 1\n",
      "     7    174944   20689000.0    118.3      0.6              except:\n",
      "     8    174944   81693000.0    467.0      2.2                  word_reviews[j] = 1\n",
      "     9                                                           \n",
      "    10         1          0.0      0.0      0.0      return word_reviews\n",
      "\n"
     ]
    }
   ],
   "source": [
    "lp = LineProfiler()\n",
    "lp(get_word_reviews_count2)(reviews)\n",
    "lp.print_stats()"
   ]
  },
  {
   "cell_type": "code",
   "execution_count": 713,
   "metadata": {},
   "outputs": [
    {
     "data": {
      "text/plain": [
       "109029"
      ]
     },
     "execution_count": 713,
     "metadata": {},
     "output_type": "execute_result"
    }
   ],
   "source": [
    "get_word_reviews_count2(reviews)['of']"
   ]
  },
  {
   "cell_type": "code",
   "execution_count": 714,
   "metadata": {},
   "outputs": [
    {
     "data": {
      "text/plain": [
       "109029"
      ]
     },
     "execution_count": 714,
     "metadata": {},
     "output_type": "execute_result"
    }
   ],
   "source": [
    "get_word_reviews_count(reviews)['of']"
   ]
  },
  {
   "cell_type": "code",
   "execution_count": 634,
   "metadata": {},
   "outputs": [
    {
     "name": "stdout",
     "output_type": "stream",
     "text": [
      "Timer unit: 1e-09 s\n",
      "\n",
      "Total time: 19.2364 s\n",
      "File: /var/folders/02/6cj0f5qn4y30_4fdyfzy3vnh0000gn/T/ipykernel_818/2826575548.py\n",
      "Function: get_word_reviews_count at line 1\n",
      "\n",
      "Line #      Hits         Time  Per Hit   % Time  Line Contents\n",
      "==============================================================\n",
      "     1                                           def get_word_reviews_count(df):\n",
      "     2         1       5000.0   5000.0      0.0      word_reviews = {}\n",
      "     3    126679 5388128000.0  42533.7     28.0      for _, row in df.dropna(subset=['review']).iterrows():\n",
      "     4    126679 1199103000.0   9465.7      6.2          recipe_id, review = row['recipe_id'], row['review']\n",
      "     5    126679  339873000.0   2682.9      1.8          words = review.split(' ')\n",
      "     6   6792010  760505000.0    112.0      4.0          for word in words:\n",
      "     7   6617066 1271745000.0    192.2      6.6              if word not in word_reviews:\n",
      "     8    174944   41299000.0    236.1      0.2                  word_reviews[word] = []\n",
      "     9   6792010 1984012000.0    292.1     10.3              word_reviews[word].append(recipe_id)\n",
      "    10                                               \n",
      "    11         1          0.0      0.0      0.0      word_reviews_count = {}\n",
      "    12    126679 4171511000.0  32929.8     21.7      for _, row in df.dropna(subset=['review']).iterrows():\n",
      "    13    126679  707328000.0   5583.6      3.7          review = row['review']\n",
      "    14    126679  350724000.0   2768.6      1.8          words = review.split(' ')\n",
      "    15   6792010  794653000.0    117.0      4.1          for word in words:\n",
      "    16   6792010 2227466000.0    328.0     11.6              word_reviews_count[word] = len(word_reviews[word])\n",
      "    17         1          0.0      0.0      0.0      return word_reviews_count\n",
      "\n"
     ]
    }
   ],
   "source": [
    "lp = LineProfiler()\n",
    "lp(get_word_reviews_count)(reviews)\n",
    "lp.print_stats()"
   ]
  },
  {
   "cell_type": "markdown",
   "metadata": {
    "id": "zMBkXSzGgWPn"
   },
   "source": [
    "4. Напишите несколько версий функции `MAPE` (см. [MAPE](https://en.wikipedia.org/wiki/Mean_absolute_percentage_error)) для расчета среднего абсолютного процентного отклонения значения рейтинга отзыва на рецепт от среднего значения рейтинга по всем отзывам для этого рецепта. \n",
    "    1. Без использования векторизованных операций и методов массивов `numpy` и без использования `numba`\n",
    "    2. Без использования векторизованных операций и методов массивов `numpy`, но с использованием `numba`\n",
    "    3. С использованием векторизованных операций и методов массивов `numpy`, но без использования `numba`\n",
    "    4. C использованием векторизованных операций и методов массивов `numpy` и `numba`\n",
    "    \n",
    "Измерьте время выполнения каждой из реализаций.\n",
    "\n",
    "Замечание: удалите из выборки отзывы с нулевым рейтингом.\n"
   ]
  },
  {
   "cell_type": "code",
   "execution_count": null,
   "metadata": {
    "id": "Zf4OnaGUgWPn"
   },
   "outputs": [],
   "source": []
  },
  {
   "cell_type": "markdown",
   "metadata": {
    "id": "Isesm2BGgWPn"
   },
   "source": [
    "#### [версия 2]\n",
    "* Уточнены формулировки задач 1, 3, 4"
   ]
  },
  {
   "cell_type": "code",
   "execution_count": null,
   "metadata": {
    "id": "mDqKYkHagWPo"
   },
   "outputs": [],
   "source": []
  }
 ],
 "metadata": {
  "colab": {
   "provenance": []
  },
  "kernelspec": {
   "display_name": "Python 3 (ipykernel)",
   "language": "python",
   "name": "python3"
  },
  "language_info": {
   "codemirror_mode": {
    "name": "ipython",
    "version": 3
   },
   "file_extension": ".py",
   "mimetype": "text/x-python",
   "name": "python",
   "nbconvert_exporter": "python",
   "pygments_lexer": "ipython3",
   "version": "3.9.13"
  }
 },
 "nbformat": 4,
 "nbformat_minor": 1
}
